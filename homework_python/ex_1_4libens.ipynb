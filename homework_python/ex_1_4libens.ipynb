{
 "cells": [
  {
   "cell_type": "markdown",
   "metadata": {},
   "source": [
    "# Test: make predictions with library ensemble!"
   ]
  },
  {
   "cell_type": "code",
   "execution_count": 10,
   "metadata": {},
   "outputs": [
    {
     "name": "stdout",
     "output_type": "stream",
     "text": [
      "Interpolation used; dt = 0.5\n"
     ]
    }
   ],
   "source": [
    "import numpy as np\n",
    "import pysindy as ps\n",
    "import matplotlib.pyplot as plt\n",
    "from scipy import interpolate\n",
    "import os\n",
    "from pathlib import Path\n",
    "\n",
    "import warnings\n",
    "from scipy.integrate.odepack import ODEintWarning\n",
    "warnings.simplefilter(\"ignore\", category=UserWarning)\n",
    "warnings.simplefilter(\"ignore\", category=ODEintWarning)\n",
    "\n",
    "# integration keywords for solve_ivp, typically needed for chaotic systems\n",
    "integrator_keywords = {}\n",
    "integrator_keywords['rtol'] = 1e-12\n",
    "integrator_keywords['method'] = 'LSODA'\n",
    "integrator_keywords['atol'] = 1e-12\n",
    "\n",
    "# CWD\n",
    "cwd = os.getcwd()\n",
    "\n",
    "# Intepolate?\n",
    "spline_flag = True\n",
    "\n",
    "# Dataset definition\n",
    "hare =  [20, 20, 52, 83, 64, 68, 83, 12, 36, 150, 110, 60, 7, 10, 70, 100, 92, 70, 10, 11, 137, 137, 18, 22, 52, 83, 18, 10, 9, 65],\n",
    "lynx =  [32, 50, 12, 10, 13, 36, 15, 12, 6, 6, 65, 70, 40, 9, 20, 34, 45, 40, 15, 15, 60, 80, 26, 18, 37, 50, 35, 12, 12, 25],\n",
    "\n",
    "dt = 2\n",
    "t0 = 1845\n",
    "t1 = 1904\n",
    "t_train = np.arange(t0, t1, dt)\n",
    "#t_train = np.reshape(t_train, (1,30))\n",
    "X_train = np.concatenate((np.array(hare),np.array(lynx)), axis=0).transpose()\n",
    "X0 = X_train[0]\n",
    "\n",
    "def interpolation(t ,X, t_new):\n",
    "\n",
    "    f_0 = interpolate.splrep(t, X[:,0])\n",
    "    f_1 = interpolate.splrep(t, X[:,1])\n",
    "\n",
    "    X_new = np.zeros((len(t_new),2))\n",
    "    X_new[:,0] = interpolate.splev(t_new, f_0)\n",
    "    X_new[:,1] = interpolate.splev(t_new, f_1)\n",
    "\n",
    "    return X_new\n",
    "\n",
    "if spline_flag:\n",
    "    dt = 0.5\n",
    "    t_train_new = np.arange(t0,t1,dt)\n",
    "    X_train = interpolation(t_train, X_train, t_train_new)\n",
    "    print(f\"Interpolation used; dt = {dt}\")\n",
    "\n",
    "t_train = t_train_new"
   ]
  },
  {
   "cell_type": "markdown",
   "metadata": {},
   "source": [
    "# Initiate library syndy model\n",
    "Ho notato che alla fine il file non salva mai il modello in se, ma semplicemente la lsita dei coffficienti (model.coef_list)"
   ]
  },
  {
   "cell_type": "code",
   "execution_count": 30,
   "metadata": {},
   "outputs": [
    {
     "name": "stdout",
     "output_type": "stream",
     "text": [
      "(hare)' = 0.000\n",
      "(lynx)' = 0.000\n"
     ]
    },
    {
     "ename": "ValueError",
     "evalue": "matmul: Input operand 1 has a mismatch in its core dimension 0, with gufunc signature (n?,k),(k,m?)->(n?,m?) (size 6 is different from 5)",
     "output_type": "error",
     "traceback": [
      "\u001b[0;31m---------------------------------------------------------------------------\u001b[0m",
      "\u001b[0;31mValueError\u001b[0m                                Traceback (most recent call last)",
      "\u001b[1;32m/home/luca/VSC_files/ModellingFromMeasurements/homework_sindy/ex_1_4libens.ipynb Cell 4\u001b[0m in \u001b[0;36m<module>\u001b[0;34m\u001b[0m\n\u001b[1;32m     <a href='vscode-notebook-cell:/home/luca/VSC_files/ModellingFromMeasurements/homework_sindy/ex_1_4libens.ipynb#ch0000002?line=19'>20</a>\u001b[0m \u001b[39mfor\u001b[39;00m w \u001b[39min\u001b[39;00m coef_list:\n\u001b[1;32m     <a href='vscode-notebook-cell:/home/luca/VSC_files/ModellingFromMeasurements/homework_sindy/ex_1_4libens.ipynb#ch0000002?line=20'>21</a>\u001b[0m     model\u001b[39m.\u001b[39moptimizer\u001b[39m.\u001b[39mcoef_ \u001b[39m=\u001b[39m w\n\u001b[0;32m---> <a href='vscode-notebook-cell:/home/luca/VSC_files/ModellingFromMeasurements/homework_sindy/ex_1_4libens.ipynb#ch0000002?line=21'>22</a>\u001b[0m     sim \u001b[39m=\u001b[39m model\u001b[39m.\u001b[39;49msimulate(X0,t_test, integrator\u001b[39m=\u001b[39;49m\u001b[39m'\u001b[39;49m\u001b[39modeint\u001b[39;49m\u001b[39m'\u001b[39;49m)\n\u001b[1;32m     <a href='vscode-notebook-cell:/home/luca/VSC_files/ModellingFromMeasurements/homework_sindy/ex_1_4libens.ipynb#ch0000002?line=22'>23</a>\u001b[0m     plt\u001b[39m.\u001b[39mplot(t_test,sim[:,\u001b[39m1\u001b[39m])\n",
      "File \u001b[0;32m~/tensorflow-env/lib/python3.8/site-packages/pysindy/pysindy.py:1223\u001b[0m, in \u001b[0;36mSINDy.simulate\u001b[0;34m(self, x0, t, u, integrator, stop_condition, interpolator, integrator_kws, interpolator_kws)\u001b[0m\n\u001b[1;32m   1221\u001b[0m     \u001b[39mif\u001b[39;00m integrator_kws\u001b[39m.\u001b[39mget(\u001b[39m\"\u001b[39m\u001b[39mmethod\u001b[39m\u001b[39m\"\u001b[39m) \u001b[39m==\u001b[39m \u001b[39m\"\u001b[39m\u001b[39mLSODA\u001b[39m\u001b[39m\"\u001b[39m:\n\u001b[1;32m   1222\u001b[0m         integrator_kws \u001b[39m=\u001b[39m {}\n\u001b[0;32m-> 1223\u001b[0m     \u001b[39mreturn\u001b[39;00m odeint(rhs, x0, t, tfirst\u001b[39m=\u001b[39;49m\u001b[39mTrue\u001b[39;49;00m, \u001b[39m*\u001b[39;49m\u001b[39m*\u001b[39;49mintegrator_kws)\n\u001b[1;32m   1224\u001b[0m \u001b[39melse\u001b[39;00m:\n\u001b[1;32m   1225\u001b[0m     \u001b[39mraise\u001b[39;00m \u001b[39mValueError\u001b[39;00m(\u001b[39m\"\u001b[39m\u001b[39mIntegrator not supported, exiting\u001b[39m\u001b[39m\"\u001b[39m)\n",
      "File \u001b[0;32m~/tensorflow-env/lib/python3.8/site-packages/scipy/integrate/odepack.py:242\u001b[0m, in \u001b[0;36modeint\u001b[0;34m(func, y0, t, args, Dfun, col_deriv, full_output, ml, mu, rtol, atol, tcrit, h0, hmax, hmin, ixpr, mxstep, mxhnil, mxordn, mxords, printmessg, tfirst)\u001b[0m\n\u001b[1;32m    240\u001b[0m t \u001b[39m=\u001b[39m copy(t)\n\u001b[1;32m    241\u001b[0m y0 \u001b[39m=\u001b[39m copy(y0)\n\u001b[0;32m--> 242\u001b[0m output \u001b[39m=\u001b[39m _odepack\u001b[39m.\u001b[39;49modeint(func, y0, t, args, Dfun, col_deriv, ml, mu,\n\u001b[1;32m    243\u001b[0m                          full_output, rtol, atol, tcrit, h0, hmax, hmin,\n\u001b[1;32m    244\u001b[0m                          ixpr, mxstep, mxhnil, mxordn, mxords,\n\u001b[1;32m    245\u001b[0m                          \u001b[39mint\u001b[39;49m(\u001b[39mbool\u001b[39;49m(tfirst)))\n\u001b[1;32m    246\u001b[0m \u001b[39mif\u001b[39;00m output[\u001b[39m-\u001b[39m\u001b[39m1\u001b[39m] \u001b[39m<\u001b[39m \u001b[39m0\u001b[39m:\n\u001b[1;32m    247\u001b[0m     warning_msg \u001b[39m=\u001b[39m _msgs[output[\u001b[39m-\u001b[39m\u001b[39m1\u001b[39m]] \u001b[39m+\u001b[39m \u001b[39m\"\u001b[39m\u001b[39m Run with full_output = 1 to get quantitative information.\u001b[39m\u001b[39m\"\u001b[39m\n",
      "File \u001b[0;32m~/tensorflow-env/lib/python3.8/site-packages/pysindy/pysindy.py:1182\u001b[0m, in \u001b[0;36mSINDy.simulate.<locals>.rhs\u001b[0;34m(t, x)\u001b[0m\n\u001b[1;32m   1181\u001b[0m \u001b[39mdef\u001b[39;00m \u001b[39mrhs\u001b[39m(t, x):\n\u001b[0;32m-> 1182\u001b[0m     \u001b[39mreturn\u001b[39;00m \u001b[39mself\u001b[39;49m\u001b[39m.\u001b[39;49mpredict(x[np\u001b[39m.\u001b[39;49mnewaxis, :])[\u001b[39m0\u001b[39m]\n",
      "File \u001b[0;32m~/tensorflow-env/lib/python3.8/site-packages/pysindy/pysindy.py:647\u001b[0m, in \u001b[0;36mSINDy.predict\u001b[0;34m(self, x, u, multiple_trajectories)\u001b[0m\n\u001b[1;32m    645\u001b[0m             x_shape \u001b[39m=\u001b[39m np\u001b[39m.\u001b[39marray(x\u001b[39m.\u001b[39mshape)\n\u001b[1;32m    646\u001b[0m             x_shape[\u001b[39m0\u001b[39m] \u001b[39m=\u001b[39m \u001b[39mself\u001b[39m\u001b[39m.\u001b[39mfeature_library\u001b[39m.\u001b[39mK\n\u001b[0;32m--> 647\u001b[0m         \u001b[39mreturn\u001b[39;00m \u001b[39mself\u001b[39;49m\u001b[39m.\u001b[39;49mmodel\u001b[39m.\u001b[39;49mpredict(x)\u001b[39m.\u001b[39mreshape(x_shape)\n\u001b[1;32m    648\u001b[0m \u001b[39melse\u001b[39;00m:\n\u001b[1;32m    649\u001b[0m     \u001b[39mif\u001b[39;00m multiple_trajectories:\n",
      "File \u001b[0;32m~/tensorflow-env/lib/python3.8/site-packages/sklearn/utils/metaestimators.py:120\u001b[0m, in \u001b[0;36m_IffHasAttrDescriptor.__get__.<locals>.<lambda>\u001b[0;34m(*args, **kwargs)\u001b[0m\n\u001b[1;32m    117\u001b[0m         attrgetter(\u001b[39mself\u001b[39m\u001b[39m.\u001b[39mdelegate_names[\u001b[39m-\u001b[39m\u001b[39m1\u001b[39m])(obj)\n\u001b[1;32m    119\u001b[0m \u001b[39m# lambda, but not partial, allows help() to work with update_wrapper\u001b[39;00m\n\u001b[0;32m--> 120\u001b[0m out \u001b[39m=\u001b[39m \u001b[39mlambda\u001b[39;00m \u001b[39m*\u001b[39margs, \u001b[39m*\u001b[39m\u001b[39m*\u001b[39mkwargs: \u001b[39mself\u001b[39;49m\u001b[39m.\u001b[39;49mfn(obj, \u001b[39m*\u001b[39;49margs, \u001b[39m*\u001b[39;49m\u001b[39m*\u001b[39;49mkwargs)\n\u001b[1;32m    121\u001b[0m \u001b[39m# update the docstring of the returned function\u001b[39;00m\n\u001b[1;32m    122\u001b[0m update_wrapper(out, \u001b[39mself\u001b[39m\u001b[39m.\u001b[39mfn)\n",
      "File \u001b[0;32m~/tensorflow-env/lib/python3.8/site-packages/sklearn/pipeline.py:419\u001b[0m, in \u001b[0;36mPipeline.predict\u001b[0;34m(self, X, **predict_params)\u001b[0m\n\u001b[1;32m    417\u001b[0m \u001b[39mfor\u001b[39;00m _, name, transform \u001b[39min\u001b[39;00m \u001b[39mself\u001b[39m\u001b[39m.\u001b[39m_iter(with_final\u001b[39m=\u001b[39m\u001b[39mFalse\u001b[39;00m):\n\u001b[1;32m    418\u001b[0m     Xt \u001b[39m=\u001b[39m transform\u001b[39m.\u001b[39mtransform(Xt)\n\u001b[0;32m--> 419\u001b[0m \u001b[39mreturn\u001b[39;00m \u001b[39mself\u001b[39;49m\u001b[39m.\u001b[39;49msteps[\u001b[39m-\u001b[39;49m\u001b[39m1\u001b[39;49m][\u001b[39m-\u001b[39;49m\u001b[39m1\u001b[39;49m]\u001b[39m.\u001b[39;49mpredict(Xt, \u001b[39m*\u001b[39;49m\u001b[39m*\u001b[39;49mpredict_params)\n",
      "File \u001b[0;32m~/tensorflow-env/lib/python3.8/site-packages/pysindy/optimizers/sindy_optimizer.py:87\u001b[0m, in \u001b[0;36mSINDyOptimizer.predict\u001b[0;34m(self, x)\u001b[0m\n\u001b[1;32m     86\u001b[0m \u001b[39mdef\u001b[39;00m \u001b[39mpredict\u001b[39m(\u001b[39mself\u001b[39m, x):\n\u001b[0;32m---> 87\u001b[0m     prediction \u001b[39m=\u001b[39m \u001b[39mself\u001b[39;49m\u001b[39m.\u001b[39;49moptimizer\u001b[39m.\u001b[39;49mpredict(x)\n\u001b[1;32m     88\u001b[0m     \u001b[39mif\u001b[39;00m prediction\u001b[39m.\u001b[39mndim \u001b[39m==\u001b[39m \u001b[39m1\u001b[39m:\n\u001b[1;32m     89\u001b[0m         \u001b[39mreturn\u001b[39;00m prediction[:, np\u001b[39m.\u001b[39mnewaxis]\n",
      "File \u001b[0;32m~/tensorflow-env/lib/python3.8/site-packages/sklearn/linear_model/_base.py:238\u001b[0m, in \u001b[0;36mLinearModel.predict\u001b[0;34m(self, X)\u001b[0m\n\u001b[1;32m    224\u001b[0m \u001b[39mdef\u001b[39;00m \u001b[39mpredict\u001b[39m(\u001b[39mself\u001b[39m, X):\n\u001b[1;32m    225\u001b[0m     \u001b[39m\"\"\"\u001b[39;00m\n\u001b[1;32m    226\u001b[0m \u001b[39m    Predict using the linear model.\u001b[39;00m\n\u001b[1;32m    227\u001b[0m \n\u001b[0;32m   (...)\u001b[0m\n\u001b[1;32m    236\u001b[0m \u001b[39m        Returns predicted values.\u001b[39;00m\n\u001b[1;32m    237\u001b[0m \u001b[39m    \"\"\"\u001b[39;00m\n\u001b[0;32m--> 238\u001b[0m     \u001b[39mreturn\u001b[39;00m \u001b[39mself\u001b[39;49m\u001b[39m.\u001b[39;49m_decision_function(X)\n",
      "File \u001b[0;32m~/tensorflow-env/lib/python3.8/site-packages/sklearn/linear_model/_base.py:221\u001b[0m, in \u001b[0;36mLinearModel._decision_function\u001b[0;34m(self, X)\u001b[0m\n\u001b[1;32m    218\u001b[0m check_is_fitted(\u001b[39mself\u001b[39m)\n\u001b[1;32m    220\u001b[0m X \u001b[39m=\u001b[39m check_array(X, accept_sparse\u001b[39m=\u001b[39m[\u001b[39m'\u001b[39m\u001b[39mcsr\u001b[39m\u001b[39m'\u001b[39m, \u001b[39m'\u001b[39m\u001b[39mcsc\u001b[39m\u001b[39m'\u001b[39m, \u001b[39m'\u001b[39m\u001b[39mcoo\u001b[39m\u001b[39m'\u001b[39m])\n\u001b[0;32m--> 221\u001b[0m \u001b[39mreturn\u001b[39;00m safe_sparse_dot(X, \u001b[39mself\u001b[39;49m\u001b[39m.\u001b[39;49mcoef_\u001b[39m.\u001b[39;49mT,\n\u001b[1;32m    222\u001b[0m                        dense_output\u001b[39m=\u001b[39;49m\u001b[39mTrue\u001b[39;49;00m) \u001b[39m+\u001b[39m \u001b[39mself\u001b[39m\u001b[39m.\u001b[39mintercept_\n",
      "File \u001b[0;32m~/tensorflow-env/lib/python3.8/site-packages/sklearn/utils/validation.py:63\u001b[0m, in \u001b[0;36m_deprecate_positional_args.<locals>._inner_deprecate_positional_args.<locals>.inner_f\u001b[0;34m(*args, **kwargs)\u001b[0m\n\u001b[1;32m     61\u001b[0m extra_args \u001b[39m=\u001b[39m \u001b[39mlen\u001b[39m(args) \u001b[39m-\u001b[39m \u001b[39mlen\u001b[39m(all_args)\n\u001b[1;32m     62\u001b[0m \u001b[39mif\u001b[39;00m extra_args \u001b[39m<\u001b[39m\u001b[39m=\u001b[39m \u001b[39m0\u001b[39m:\n\u001b[0;32m---> 63\u001b[0m     \u001b[39mreturn\u001b[39;00m f(\u001b[39m*\u001b[39;49margs, \u001b[39m*\u001b[39;49m\u001b[39m*\u001b[39;49mkwargs)\n\u001b[1;32m     65\u001b[0m \u001b[39m# extra_args > 0\u001b[39;00m\n\u001b[1;32m     66\u001b[0m args_msg \u001b[39m=\u001b[39m [\u001b[39m'\u001b[39m\u001b[39m{}\u001b[39;00m\u001b[39m=\u001b[39m\u001b[39m{}\u001b[39;00m\u001b[39m'\u001b[39m\u001b[39m.\u001b[39mformat(name, arg)\n\u001b[1;32m     67\u001b[0m             \u001b[39mfor\u001b[39;00m name, arg \u001b[39min\u001b[39;00m \u001b[39mzip\u001b[39m(kwonly_args[:extra_args],\n\u001b[1;32m     68\u001b[0m                                  args[\u001b[39m-\u001b[39mextra_args:])]\n",
      "File \u001b[0;32m~/tensorflow-env/lib/python3.8/site-packages/sklearn/utils/extmath.py:152\u001b[0m, in \u001b[0;36msafe_sparse_dot\u001b[0;34m(a, b, dense_output)\u001b[0m\n\u001b[1;32m    150\u001b[0m         ret \u001b[39m=\u001b[39m np\u001b[39m.\u001b[39mdot(a, b)\n\u001b[1;32m    151\u001b[0m \u001b[39melse\u001b[39;00m:\n\u001b[0;32m--> 152\u001b[0m     ret \u001b[39m=\u001b[39m a \u001b[39m@\u001b[39;49m b\n\u001b[1;32m    154\u001b[0m \u001b[39mif\u001b[39;00m (sparse\u001b[39m.\u001b[39missparse(a) \u001b[39mand\u001b[39;00m sparse\u001b[39m.\u001b[39missparse(b)\n\u001b[1;32m    155\u001b[0m         \u001b[39mand\u001b[39;00m dense_output \u001b[39mand\u001b[39;00m \u001b[39mhasattr\u001b[39m(ret, \u001b[39m\"\u001b[39m\u001b[39mtoarray\u001b[39m\u001b[39m\"\u001b[39m)):\n\u001b[1;32m    156\u001b[0m     \u001b[39mreturn\u001b[39;00m ret\u001b[39m.\u001b[39mtoarray()\n",
      "\u001b[0;31mValueError\u001b[0m: matmul: Input operand 1 has a mismatch in its core dimension 0, with gufunc signature (n?,k),(k,m?)->(n?,m?) (size 6 is different from 5)"
     ]
    },
    {
     "data": {
      "text/plain": [
       "<Figure size 432x288 with 0 Axes>"
      ]
     },
     "metadata": {},
     "output_type": "display_data"
    }
   ],
   "source": [
    "feature_names = ['hare','lynx']\n",
    "\n",
    "# Instantiate and fit the SINDy model\n",
    "library_ensemble_optimizer = ps.STLSQ()\n",
    "model = ps.SINDy(feature_names=feature_names, \n",
    "                 optimizer=library_ensemble_optimizer)\n",
    "model.fit(\n",
    "    X_train,\n",
    "    t=dt,\n",
    "    library_ensemble=True,\n",
    "    #ensemble=True,\n",
    "    n_subset=90,\n",
    "    quiet=True\n",
    "    )\n",
    "model.print()\n",
    "coef_list= model.coef_list\n",
    "\n",
    "t_test = np.arange(t0, t1, 0.001)  \n",
    "plt.figure()\n",
    "for w in coef_list:\n",
    "    model.optimizer.coef_ = w\n",
    "    sim = model.simulate(X0,t_test, integrator='odeint')\n",
    "    plt.plot(t_test,sim[:,1])"
   ]
  }
 ],
 "metadata": {
  "kernelspec": {
   "display_name": "Python 3.8.10 ('tensorflow-env')",
   "language": "python",
   "name": "python3"
  },
  "language_info": {
   "codemirror_mode": {
    "name": "ipython",
    "version": 3
   },
   "file_extension": ".py",
   "mimetype": "text/x-python",
   "name": "python",
   "nbconvert_exporter": "python",
   "pygments_lexer": "ipython3",
   "version": "3.8.10"
  },
  "orig_nbformat": 4,
  "vscode": {
   "interpreter": {
    "hash": "681a3bb6c7bed4a9feb4e8465e46459756fe1feb39ff2253074141a9f6ea4517"
   }
  }
 },
 "nbformat": 4,
 "nbformat_minor": 2
}
